{
 "cells": [
  {
   "cell_type": "markdown",
   "metadata": {},
   "source": [
    "# Análisis de un chat grupal de WhatsApp"
   ]
  },
  {
   "cell_type": "markdown",
   "metadata": {},
   "source": [
    "Hacer este análisis ayuda a ver cuáles son las palabras más utilizadas por persona, los temas que se hablan, cuánto escribe cada uno, etc. <br>Además, se pueden hacer series de tiempo para predecir a futuro quién hablará e incluso el posible tema que tocará. <br>Se puede hacer un sentiment analysis para entender si son positivos o negativos los mensajes."
   ]
  },
  {
   "cell_type": "code",
   "execution_count": 1,
   "metadata": {},
   "outputs": [
    {
     "name": "stderr",
     "output_type": "stream",
     "text": [
      "Warning message:\n",
      "\"package 'dplyr' was built under R version 3.5.3\"\n",
      "Attaching package: 'dplyr'\n",
      "\n",
      "The following objects are masked from 'package:stats':\n",
      "\n",
      "    filter, lag\n",
      "\n",
      "The following objects are masked from 'package:base':\n",
      "\n",
      "    intersect, setdiff, setequal, union\n",
      "\n",
      "Warning message:\n",
      "\"package 'stringr' was built under R version 3.5.3\"\n",
      "Attaching package: 'plotly'\n",
      "\n",
      "The following object is masked from 'package:ggplot2':\n",
      "\n",
      "    last_plot\n",
      "\n",
      "The following object is masked from 'package:stats':\n",
      "\n",
      "    filter\n",
      "\n",
      "The following object is masked from 'package:graphics':\n",
      "\n",
      "    layout\n",
      "\n",
      "\n",
      "Attaching package: 'lubridate'\n",
      "\n",
      "The following object is masked from 'package:base':\n",
      "\n",
      "    date\n",
      "\n",
      "Loading required package: NLP\n",
      "\n",
      "Attaching package: 'NLP'\n",
      "\n",
      "The following object is masked from 'package:ggplot2':\n",
      "\n",
      "    annotate\n",
      "\n",
      "Loading required package: RColorBrewer\n"
     ]
    }
   ],
   "source": [
    "#Primero se cargan las librerías a usar:\n",
    "library(timeDate)\n",
    "library(dplyr) #Manipulación de Datos\n",
    "library(stringr)\n",
    "library(ggplot2) #Gráficas\n",
    "library(plotly) #Más gráficas\n",
    "library(lubridate) #Limpiar Fechas\n",
    "library(tm)#Analisis de datos\n",
    "library(wordcloud)\n",
    "#Si no las tienes instaladas, usa la línea de código: install.packages(\"Nombre de la librería\")"
   ]
  },
  {
   "cell_type": "markdown",
   "metadata": {},
   "source": [
    "Se carga el texto del chat grupal. Dado que es un archivo TXT se carga como tabla. <br>\n",
    "En este punto la tabla solamente tiene una columna porque el programa no sabe dónde dividir el texto de cada fila, por default se llamará esta columna \"V1\"."
   ]
  },
  {
   "cell_type": "code",
   "execution_count": 2,
   "metadata": {},
   "outputs": [
    {
     "data": {
      "text/html": [
       "<table>\n",
       "<thead><tr><th scope=col>V1</th></tr></thead>\n",
       "<tbody>\n",
       "\t<tr><td>8/26/18, 1:51 PM - Messages to this group are now secured with end-to-end encryption. Tap for more info.</td></tr>\n",
       "\t<tr><td>9/14/17, 2:52 PM - E Sylvain created group \"El Arkha\"                                                   </td></tr>\n",
       "\t<tr><td>8/26/18, 1:51 PM - E Sylvain added you                                                                  </td></tr>\n",
       "\t<tr><td>8/27/18, 12:23 PM - E Sylvain: rol el domingo en mi casa                                                </td></tr>\n",
       "\t<tr><td>8/27/18, 12:24 PM - +52 1 55 2683 4746: Cool                                                            </td></tr>\n",
       "\t<tr><td>8/27/18, 12:24 PM - +52 1 55 2683 4746: Yo le entro                                                     </td></tr>\n",
       "</tbody>\n",
       "</table>\n"
      ],
      "text/latex": [
       "\\begin{tabular}{r|l}\n",
       " V1\\\\\n",
       "\\hline\n",
       "\t 8/26/18, 1:51 PM - Messages to this group are now secured with end-to-end encryption. Tap for more info.\\\\\n",
       "\t 9/14/17, 2:52 PM - E Sylvain created group \"El Arkha\"                                                   \\\\\n",
       "\t 8/26/18, 1:51 PM - E Sylvain added you                                                                  \\\\\n",
       "\t 8/27/18, 12:23 PM - E Sylvain: rol el domingo en mi casa                                                \\\\\n",
       "\t 8/27/18, 12:24 PM - +52 1 55 2683 4746: Cool                                                            \\\\\n",
       "\t 8/27/18, 12:24 PM - +52 1 55 2683 4746: Yo le entro                                                     \\\\\n",
       "\\end{tabular}\n"
      ],
      "text/markdown": [
       "\n",
       "| V1 |\n",
       "|---|\n",
       "| 8/26/18, 1:51 PM - Messages to this group are now secured with end-to-end encryption. Tap for more info. |\n",
       "| 9/14/17, 2:52 PM - E Sylvain created group \"El Arkha\"                                                    |\n",
       "| 8/26/18, 1:51 PM - E Sylvain added you                                                                   |\n",
       "| 8/27/18, 12:23 PM - E Sylvain: rol el domingo en mi casa                                                 |\n",
       "| 8/27/18, 12:24 PM - +52 1 55 2683 4746: Cool                                                             |\n",
       "| 8/27/18, 12:24 PM - +52 1 55 2683 4746: Yo le entro                                                      |\n",
       "\n"
      ],
      "text/plain": [
       "  V1                                                                                                      \n",
       "1 8/26/18, 1:51 PM - Messages to this group are now secured with end-to-end encryption. Tap for more info.\n",
       "2 9/14/17, 2:52 PM - E Sylvain created group \"El Arkha\"                                                   \n",
       "3 8/26/18, 1:51 PM - E Sylvain added you                                                                  \n",
       "4 8/27/18, 12:23 PM - E Sylvain: rol el domingo en mi casa                                                \n",
       "5 8/27/18, 12:24 PM - +52 1 55 2683 4746: Cool                                                            \n",
       "6 8/27/18, 12:24 PM - +52 1 55 2683 4746: Yo le entro                                                     "
      ]
     },
     "metadata": {},
     "output_type": "display_data"
    }
   ],
   "source": [
    "base <- read.table(\"https://raw.githubusercontent.com/Manamaster/analisisWhatsApp/master/WhatsAppChatArkha.txt\", header=FALSE, sep=\"|\", quote=\"\", encoding='UTF-8')\n",
    "head(base)"
   ]
  },
  {
   "cell_type": "markdown",
   "metadata": {},
   "source": [
    "## Se separan los datos\n",
    "### Creación de variable fecha\n",
    "Se usan los números que se tomarán para la fecha son del 1 al 16 y 17 en este caso, dado que ese es el largo de la fecha: <br>\n",
    "\"9/14/17, 2:52 PM \" <br>\n",
    "Se extraen de V1, nombre por default de la columna extraida del TXT."
   ]
  },
  {
   "cell_type": "code",
   "execution_count": 3,
   "metadata": {},
   "outputs": [
    {
     "data": {
      "text/html": [
       "<table>\n",
       "<thead><tr><th scope=col>V1</th><th scope=col>fecha</th></tr></thead>\n",
       "<tbody>\n",
       "\t<tr><td>8/26/18, 1:51 PM - Messages to this group are now secured with end-to-end encryption. Tap for more info.</td><td>8/26/18, 1:51 PM                                                                                        </td></tr>\n",
       "\t<tr><td>9/14/17, 2:52 PM - E Sylvain created group \"El Arkha\"                                                   </td><td>9/14/17, 2:52 PM                                                                                        </td></tr>\n",
       "\t<tr><td>8/26/18, 1:51 PM - E Sylvain added you                                                                  </td><td>8/26/18, 1:51 PM                                                                                        </td></tr>\n",
       "\t<tr><td>8/27/18, 12:23 PM - E Sylvain: rol el domingo en mi casa                                                </td><td>8/27/18, 12:23 PM                                                                                       </td></tr>\n",
       "\t<tr><td>8/27/18, 12:24 PM - +52 1 55 2683 4746: Cool                                                            </td><td>8/27/18, 12:24 PM                                                                                       </td></tr>\n",
       "\t<tr><td>8/27/18, 12:24 PM - +52 1 55 2683 4746: Yo le entro                                                     </td><td>8/27/18, 12:24 PM                                                                                       </td></tr>\n",
       "</tbody>\n",
       "</table>\n"
      ],
      "text/latex": [
       "\\begin{tabular}{r|ll}\n",
       " V1 & fecha\\\\\n",
       "\\hline\n",
       "\t 8/26/18, 1:51 PM - Messages to this group are now secured with end-to-end encryption. Tap for more info. & 8/26/18, 1:51 PM                                                                                        \\\\\n",
       "\t 9/14/17, 2:52 PM - E Sylvain created group \"El Arkha\"                                                    & 9/14/17, 2:52 PM                                                                                        \\\\\n",
       "\t 8/26/18, 1:51 PM - E Sylvain added you                                                                   & 8/26/18, 1:51 PM                                                                                        \\\\\n",
       "\t 8/27/18, 12:23 PM - E Sylvain: rol el domingo en mi casa                                                 & 8/27/18, 12:23 PM                                                                                       \\\\\n",
       "\t 8/27/18, 12:24 PM - +52 1 55 2683 4746: Cool                                                             & 8/27/18, 12:24 PM                                                                                       \\\\\n",
       "\t 8/27/18, 12:24 PM - +52 1 55 2683 4746: Yo le entro                                                      & 8/27/18, 12:24 PM                                                                                       \\\\\n",
       "\\end{tabular}\n"
      ],
      "text/markdown": [
       "\n",
       "| V1 | fecha |\n",
       "|---|---|\n",
       "| 8/26/18, 1:51 PM - Messages to this group are now secured with end-to-end encryption. Tap for more info. | 8/26/18, 1:51 PM                                                                                         |\n",
       "| 9/14/17, 2:52 PM - E Sylvain created group \"El Arkha\"                                                    | 9/14/17, 2:52 PM                                                                                         |\n",
       "| 8/26/18, 1:51 PM - E Sylvain added you                                                                   | 8/26/18, 1:51 PM                                                                                         |\n",
       "| 8/27/18, 12:23 PM - E Sylvain: rol el domingo en mi casa                                                 | 8/27/18, 12:23 PM                                                                                        |\n",
       "| 8/27/18, 12:24 PM - +52 1 55 2683 4746: Cool                                                             | 8/27/18, 12:24 PM                                                                                        |\n",
       "| 8/27/18, 12:24 PM - +52 1 55 2683 4746: Yo le entro                                                      | 8/27/18, 12:24 PM                                                                                        |\n",
       "\n"
      ],
      "text/plain": [
       "  V1                                                                                                      \n",
       "1 8/26/18, 1:51 PM - Messages to this group are now secured with end-to-end encryption. Tap for more info.\n",
       "2 9/14/17, 2:52 PM - E Sylvain created group \"El Arkha\"                                                   \n",
       "3 8/26/18, 1:51 PM - E Sylvain added you                                                                  \n",
       "4 8/27/18, 12:23 PM - E Sylvain: rol el domingo en mi casa                                                \n",
       "5 8/27/18, 12:24 PM - +52 1 55 2683 4746: Cool                                                            \n",
       "6 8/27/18, 12:24 PM - +52 1 55 2683 4746: Yo le entro                                                     \n",
       "  fecha            \n",
       "1 8/26/18, 1:51 PM \n",
       "2 9/14/17, 2:52 PM \n",
       "3 8/26/18, 1:51 PM \n",
       "4 8/27/18, 12:23 PM\n",
       "5 8/27/18, 12:24 PM\n",
       "6 8/27/18, 12:24 PM"
      ]
     },
     "metadata": {},
     "output_type": "display_data"
    }
   ],
   "source": [
    "base$fecha <- gsub(\"\\\\.\",\"\",substr(base$V1, 1, 17)) #gsub busca un caracter y lo reemplaza.\n",
    "head(base)"
   ]
  },
  {
   "cell_type": "markdown",
   "metadata": {},
   "source": [
    "Extraemos la parte de la persona y su mensaje"
   ]
  },
  {
   "cell_type": "code",
   "execution_count": 4,
   "metadata": {},
   "outputs": [],
   "source": [
    "base<-base %>%\n",
    "  mutate(texto=gsub(\"\\\\.:\",\":\",substring(V1, 21)))%>%\n",
    "  select(-V1)"
   ]
  },
  {
   "cell_type": "markdown",
   "metadata": {},
   "source": [
    "Se eliminan los primeros 3 registros, ya que no contribuyen. <br>\n",
    "Si existieran más líneas que no sirven (como aquellas donde dice: \"Tal persona agregó a tal persona\") se puede usar el código de esta manera:<br> \"base[1:#,] <- NA\", donde \"#\" es el número de fila hasta donde se borrará."
   ]
  },
  {
   "cell_type": "code",
   "execution_count": 5,
   "metadata": {},
   "outputs": [],
   "source": [
    "base[1:3,] <- NA"
   ]
  },
  {
   "cell_type": "markdown",
   "metadata": {},
   "source": [
    "Se remueven los emoji y se mantiene el texto. <br>\n",
    "Para esto se crea una columna nueva llamada \"texto\"."
   ]
  },
  {
   "cell_type": "code",
   "execution_count": 6,
   "metadata": {},
   "outputs": [],
   "source": [
    "base$texto <- gsub(\"[^0-9A-Za-z///:áéíóúñ']\",\" \" , base$texto ,ignore.case = TRUE)"
   ]
  },
  {
   "cell_type": "markdown",
   "metadata": {},
   "source": [
    "Se cambian todos a mayúsculas para que no haga triplicados de palabras."
   ]
  },
  {
   "cell_type": "code",
   "execution_count": 7,
   "metadata": {},
   "outputs": [],
   "source": [
    "base$texto <- toupper(base$texto)"
   ]
  },
  {
   "cell_type": "markdown",
   "metadata": {},
   "source": [
    "Se reemplazan los acentos con vocales sin acentos."
   ]
  },
  {
   "cell_type": "code",
   "execution_count": 8,
   "metadata": {},
   "outputs": [],
   "source": [
    "base$texto <- chartr('ÁÉÍÓÚ', 'AEIOU', base$texto)"
   ]
  },
  {
   "cell_type": "markdown",
   "metadata": {},
   "source": [
    "Remover puntuación, palabras innecesarias y espacios en blanco. <br>\n",
    "Las \"stopwords\" son palabras comunes que no son necesarias para el análisis del texto. "
   ]
  },
  {
   "cell_type": "code",
   "execution_count": 9,
   "metadata": {},
   "outputs": [
    {
     "data": {
      "text/html": [
       "<table>\n",
       "<thead><tr><th scope=col>fecha</th><th scope=col>texto</th></tr></thead>\n",
       "<tbody>\n",
       "\t<tr><td>NA                                  </td><td>NA                                  </td></tr>\n",
       "\t<tr><td>NA                                  </td><td>NA                                  </td></tr>\n",
       "\t<tr><td>NA                                  </td><td>NA                                  </td></tr>\n",
       "\t<tr><td>8/27/18, 12:23 PM                   </td><td>E SYLVAIN: ROL EL DOMINGO EN MI CASA</td></tr>\n",
       "\t<tr><td>8/27/18, 12:24 PM                   </td><td> 52 1 55 2683 4746: COOL            </td></tr>\n",
       "\t<tr><td>8/27/18, 12:24 PM                   </td><td> 52 1 55 2683 4746: YO LE ENTRO     </td></tr>\n",
       "</tbody>\n",
       "</table>\n"
      ],
      "text/latex": [
       "\\begin{tabular}{r|ll}\n",
       " fecha & texto\\\\\n",
       "\\hline\n",
       "\t NA                                   & NA                                  \\\\\n",
       "\t NA                                   & NA                                  \\\\\n",
       "\t NA                                   & NA                                  \\\\\n",
       "\t 8/27/18, 12:23 PM                    & E SYLVAIN: ROL EL DOMINGO EN MI CASA\\\\\n",
       "\t 8/27/18, 12:24 PM                    &  52 1 55 2683 4746: COOL            \\\\\n",
       "\t 8/27/18, 12:24 PM                    &  52 1 55 2683 4746: YO LE ENTRO     \\\\\n",
       "\\end{tabular}\n"
      ],
      "text/markdown": [
       "\n",
       "| fecha | texto |\n",
       "|---|---|\n",
       "| NA                                   | NA                                   |\n",
       "| NA                                   | NA                                   |\n",
       "| NA                                   | NA                                   |\n",
       "| 8/27/18, 12:23 PM                    | E SYLVAIN: ROL EL DOMINGO EN MI CASA |\n",
       "| 8/27/18, 12:24 PM                    |  52 1 55 2683 4746: COOL             |\n",
       "| 8/27/18, 12:24 PM                    |  52 1 55 2683 4746: YO LE ENTRO      |\n",
       "\n"
      ],
      "text/plain": [
       "  fecha             texto                               \n",
       "1 NA                NA                                  \n",
       "2 NA                NA                                  \n",
       "3 NA                NA                                  \n",
       "4 8/27/18, 12:23 PM E SYLVAIN: ROL EL DOMINGO EN MI CASA\n",
       "5 8/27/18, 12:24 PM  52 1 55 2683 4746: COOL            \n",
       "6 8/27/18, 12:24 PM  52 1 55 2683 4746: YO LE ENTRO     "
      ]
     },
     "metadata": {},
     "output_type": "display_data"
    }
   ],
   "source": [
    "head(base)"
   ]
  },
  {
   "cell_type": "code",
   "execution_count": 10,
   "metadata": {},
   "outputs": [],
   "source": [
    "base$texto <- removeWords(base$texto, c(toupper(stopwords(\"spanish\")),\n",
    "                                              'OK', 'JAJA', 'JAJAJA', 'JAJAJAJA', 'MEDIA OMITTED'))\n",
    "base$texto <- stripWhitespace(base$texto)\n",
    "base$persona <- gsub(\":.+$\", \"\", base$texto)\n",
    "base$mensaje <- gsub(\"^.+:\", \"\", base$texto)"
   ]
  },
  {
   "cell_type": "code",
   "execution_count": 11,
   "metadata": {},
   "outputs": [
    {
     "data": {
      "text/html": [
       "<table>\n",
       "<thead><tr><th scope=col>fecha</th><th scope=col>texto</th><th scope=col>persona</th><th scope=col>mensaje</th></tr></thead>\n",
       "<tbody>\n",
       "\t<tr><td>NA                        </td><td>NA                        </td><td>NA                        </td><td>NA                        </td></tr>\n",
       "\t<tr><td>NA                        </td><td>NA                        </td><td>NA                        </td><td>NA                        </td></tr>\n",
       "\t<tr><td>NA                        </td><td>NA                        </td><td>NA                        </td><td>NA                        </td></tr>\n",
       "\t<tr><td>8/27/18, 12:23 PM         </td><td> SYLVAIN: ROL DOMINGO CASA</td><td> SYLVAIN                  </td><td> ROL DOMINGO CASA         </td></tr>\n",
       "\t<tr><td>8/27/18, 12:24 PM         </td><td> 52 1 55 2683 4746: COOL  </td><td> 52 1 55 2683 4746        </td><td> COOL                     </td></tr>\n",
       "\t<tr><td>8/27/18, 12:24 PM         </td><td> 52 1 55 2683 4746: ENTRO </td><td> 52 1 55 2683 4746        </td><td> ENTRO                    </td></tr>\n",
       "</tbody>\n",
       "</table>\n"
      ],
      "text/latex": [
       "\\begin{tabular}{r|llll}\n",
       " fecha & texto & persona & mensaje\\\\\n",
       "\\hline\n",
       "\t NA                         & NA                         & NA                         & NA                        \\\\\n",
       "\t NA                         & NA                         & NA                         & NA                        \\\\\n",
       "\t NA                         & NA                         & NA                         & NA                        \\\\\n",
       "\t 8/27/18, 12:23 PM          &  SYLVAIN: ROL DOMINGO CASA &  SYLVAIN                   &  ROL DOMINGO CASA         \\\\\n",
       "\t 8/27/18, 12:24 PM          &  52 1 55 2683 4746: COOL   &  52 1 55 2683 4746         &  COOL                     \\\\\n",
       "\t 8/27/18, 12:24 PM          &  52 1 55 2683 4746: ENTRO  &  52 1 55 2683 4746         &  ENTRO                    \\\\\n",
       "\\end{tabular}\n"
      ],
      "text/markdown": [
       "\n",
       "| fecha | texto | persona | mensaje |\n",
       "|---|---|---|---|\n",
       "| NA                         | NA                         | NA                         | NA                         |\n",
       "| NA                         | NA                         | NA                         | NA                         |\n",
       "| NA                         | NA                         | NA                         | NA                         |\n",
       "| 8/27/18, 12:23 PM          |  SYLVAIN: ROL DOMINGO CASA |  SYLVAIN                   |  ROL DOMINGO CASA          |\n",
       "| 8/27/18, 12:24 PM          |  52 1 55 2683 4746: COOL   |  52 1 55 2683 4746         |  COOL                      |\n",
       "| 8/27/18, 12:24 PM          |  52 1 55 2683 4746: ENTRO  |  52 1 55 2683 4746         |  ENTRO                     |\n",
       "\n"
      ],
      "text/plain": [
       "  fecha             texto                      persona           \n",
       "1 NA                NA                         NA                \n",
       "2 NA                NA                         NA                \n",
       "3 NA                NA                         NA                \n",
       "4 8/27/18, 12:23 PM  SYLVAIN: ROL DOMINGO CASA  SYLVAIN          \n",
       "5 8/27/18, 12:24 PM  52 1 55 2683 4746: COOL    52 1 55 2683 4746\n",
       "6 8/27/18, 12:24 PM  52 1 55 2683 4746: ENTRO   52 1 55 2683 4746\n",
       "  mensaje          \n",
       "1 NA               \n",
       "2 NA               \n",
       "3 NA               \n",
       "4  ROL DOMINGO CASA\n",
       "5  COOL            \n",
       "6  ENTRO           "
      ]
     },
     "metadata": {},
     "output_type": "display_data"
    }
   ],
   "source": [
    "head(base)"
   ]
  },
  {
   "cell_type": "markdown",
   "metadata": {},
   "source": [
    "Se hace un filtro para quitar los espacios vacíos en la variable mensaje y la palabra \"añadió\" del número (Cuando un usuario agrega a otro)"
   ]
  },
  {
   "cell_type": "code",
   "execution_count": 12,
   "metadata": {},
   "outputs": [],
   "source": [
    "base <- base %>% \n",
    "  filter(!is.na(mensaje) | mensaje !=\"\") %>% \n",
    "  filter(!str_detect(persona, 'AÑADIO')) %>% \n",
    "  filter(!str_detect(persona, 'ELIMINO'))"
   ]
  },
  {
   "cell_type": "code",
   "execution_count": 13,
   "metadata": {},
   "outputs": [
    {
     "data": {
      "text/html": [
       "<table>\n",
       "<thead><tr><th scope=col>fecha</th><th scope=col>texto</th><th scope=col>persona</th><th scope=col>mensaje</th></tr></thead>\n",
       "<tbody>\n",
       "\t<tr><td>8/27/18, 12:23 PM                                     </td><td> SYLVAIN: ROL DOMINGO CASA                            </td><td> SYLVAIN                                              </td><td> ROL DOMINGO CASA                                     </td></tr>\n",
       "\t<tr><td>8/27/18, 12:24 PM                                     </td><td> 52 1 55 2683 4746: COOL                              </td><td> 52 1 55 2683 4746                                    </td><td> COOL                                                 </td></tr>\n",
       "\t<tr><td>8/27/18, 12:24 PM                                     </td><td> 52 1 55 2683 4746: ENTRO                             </td><td> 52 1 55 2683 4746                                    </td><td> ENTRO                                                </td></tr>\n",
       "\t<tr><td>8/27/18, 12:24 PM                                     </td><td> 52 1 477 471 6688: MIENTRAS AGARRE DORMIDO TIEMPO IRE</td><td> 52 1 477 471 6688                                    </td><td> MIENTRAS AGARRE DORMIDO TIEMPO IRE                   </td></tr>\n",
       "\t<tr><td>8/27/18, 12:25 PM                                     </td><td> 52 1 55 2683 4746:                                   </td><td> 52 1 55 2683 4746                                    </td><td>                                                      </td></tr>\n",
       "\t<tr><td>8/27/18, 12:28 PM                                     </td><td> 52 1 55 2534 4538: VA                                </td><td> 52 1 55 2534 4538                                    </td><td> VA                                                   </td></tr>\n",
       "</tbody>\n",
       "</table>\n"
      ],
      "text/latex": [
       "\\begin{tabular}{r|llll}\n",
       " fecha & texto & persona & mensaje\\\\\n",
       "\\hline\n",
       "\t 8/27/18, 12:23 PM                                      &  SYLVAIN: ROL DOMINGO CASA                             &  SYLVAIN                                               &  ROL DOMINGO CASA                                     \\\\\n",
       "\t 8/27/18, 12:24 PM                                      &  52 1 55 2683 4746: COOL                               &  52 1 55 2683 4746                                     &  COOL                                                 \\\\\n",
       "\t 8/27/18, 12:24 PM                                      &  52 1 55 2683 4746: ENTRO                              &  52 1 55 2683 4746                                     &  ENTRO                                                \\\\\n",
       "\t 8/27/18, 12:24 PM                                      &  52 1 477 471 6688: MIENTRAS AGARRE DORMIDO TIEMPO IRE &  52 1 477 471 6688                                     &  MIENTRAS AGARRE DORMIDO TIEMPO IRE                   \\\\\n",
       "\t 8/27/18, 12:25 PM                                      &  52 1 55 2683 4746:                                    &  52 1 55 2683 4746                                     &                                                       \\\\\n",
       "\t 8/27/18, 12:28 PM                                      &  52 1 55 2534 4538: VA                                 &  52 1 55 2534 4538                                     &  VA                                                   \\\\\n",
       "\\end{tabular}\n"
      ],
      "text/markdown": [
       "\n",
       "| fecha | texto | persona | mensaje |\n",
       "|---|---|---|---|\n",
       "| 8/27/18, 12:23 PM                                      |  SYLVAIN: ROL DOMINGO CASA                             |  SYLVAIN                                               |  ROL DOMINGO CASA                                      |\n",
       "| 8/27/18, 12:24 PM                                      |  52 1 55 2683 4746: COOL                               |  52 1 55 2683 4746                                     |  COOL                                                  |\n",
       "| 8/27/18, 12:24 PM                                      |  52 1 55 2683 4746: ENTRO                              |  52 1 55 2683 4746                                     |  ENTRO                                                 |\n",
       "| 8/27/18, 12:24 PM                                      |  52 1 477 471 6688: MIENTRAS AGARRE DORMIDO TIEMPO IRE |  52 1 477 471 6688                                     |  MIENTRAS AGARRE DORMIDO TIEMPO IRE                    |\n",
       "| 8/27/18, 12:25 PM                                      |  52 1 55 2683 4746:                                    |  52 1 55 2683 4746                                     |                                                        |\n",
       "| 8/27/18, 12:28 PM                                      |  52 1 55 2534 4538: VA                                 |  52 1 55 2534 4538                                     |  VA                                                    |\n",
       "\n"
      ],
      "text/plain": [
       "  fecha             texto                                                 \n",
       "1 8/27/18, 12:23 PM  SYLVAIN: ROL DOMINGO CASA                            \n",
       "2 8/27/18, 12:24 PM  52 1 55 2683 4746: COOL                              \n",
       "3 8/27/18, 12:24 PM  52 1 55 2683 4746: ENTRO                             \n",
       "4 8/27/18, 12:24 PM  52 1 477 471 6688: MIENTRAS AGARRE DORMIDO TIEMPO IRE\n",
       "5 8/27/18, 12:25 PM  52 1 55 2683 4746:                                   \n",
       "6 8/27/18, 12:28 PM  52 1 55 2534 4538: VA                                \n",
       "  persona            mensaje                            \n",
       "1  SYLVAIN            ROL DOMINGO CASA                  \n",
       "2  52 1 55 2683 4746  COOL                              \n",
       "3  52 1 55 2683 4746  ENTRO                             \n",
       "4  52 1 477 471 6688  MIENTRAS AGARRE DORMIDO TIEMPO IRE\n",
       "5  52 1 55 2683 4746                                    \n",
       "6  52 1 55 2534 4538  VA                                "
      ]
     },
     "metadata": {},
     "output_type": "display_data"
    }
   ],
   "source": [
    "head(base)"
   ]
  },
  {
   "cell_type": "markdown",
   "metadata": {},
   "source": [
    "Borrar todos los mensajes vacíos si la columna \"mensaje\" = \"\""
   ]
  },
  {
   "cell_type": "code",
   "execution_count": 14,
   "metadata": {},
   "outputs": [
    {
     "data": {
      "text/html": [
       "<table>\n",
       "<thead><tr><th scope=col>fecha</th><th scope=col>texto</th><th scope=col>persona</th><th scope=col>mensaje</th></tr></thead>\n",
       "<tbody>\n",
       "\t<tr><td>8/27/18, 12:23 PM                                     </td><td> SYLVAIN: ROL DOMINGO CASA                            </td><td> SYLVAIN                                              </td><td> ROL DOMINGO CASA                                     </td></tr>\n",
       "\t<tr><td>8/27/18, 12:24 PM                                     </td><td> 52 1 55 2683 4746: COOL                              </td><td> 52 1 55 2683 4746                                    </td><td> COOL                                                 </td></tr>\n",
       "\t<tr><td>8/27/18, 12:24 PM                                     </td><td> 52 1 55 2683 4746: ENTRO                             </td><td> 52 1 55 2683 4746                                    </td><td> ENTRO                                                </td></tr>\n",
       "\t<tr><td>8/27/18, 12:24 PM                                     </td><td> 52 1 477 471 6688: MIENTRAS AGARRE DORMIDO TIEMPO IRE</td><td> 52 1 477 471 6688                                    </td><td> MIENTRAS AGARRE DORMIDO TIEMPO IRE                   </td></tr>\n",
       "\t<tr><td>8/27/18, 12:25 PM                                     </td><td> 52 1 55 2683 4746:                                   </td><td> 52 1 55 2683 4746                                    </td><td>                                                      </td></tr>\n",
       "\t<tr><td>8/27/18, 12:28 PM                                     </td><td> 52 1 55 2534 4538: VA                                </td><td> 52 1 55 2534 4538                                    </td><td> VA                                                   </td></tr>\n",
       "</tbody>\n",
       "</table>\n"
      ],
      "text/latex": [
       "\\begin{tabular}{r|llll}\n",
       " fecha & texto & persona & mensaje\\\\\n",
       "\\hline\n",
       "\t 8/27/18, 12:23 PM                                      &  SYLVAIN: ROL DOMINGO CASA                             &  SYLVAIN                                               &  ROL DOMINGO CASA                                     \\\\\n",
       "\t 8/27/18, 12:24 PM                                      &  52 1 55 2683 4746: COOL                               &  52 1 55 2683 4746                                     &  COOL                                                 \\\\\n",
       "\t 8/27/18, 12:24 PM                                      &  52 1 55 2683 4746: ENTRO                              &  52 1 55 2683 4746                                     &  ENTRO                                                \\\\\n",
       "\t 8/27/18, 12:24 PM                                      &  52 1 477 471 6688: MIENTRAS AGARRE DORMIDO TIEMPO IRE &  52 1 477 471 6688                                     &  MIENTRAS AGARRE DORMIDO TIEMPO IRE                   \\\\\n",
       "\t 8/27/18, 12:25 PM                                      &  52 1 55 2683 4746:                                    &  52 1 55 2683 4746                                     &                                                       \\\\\n",
       "\t 8/27/18, 12:28 PM                                      &  52 1 55 2534 4538: VA                                 &  52 1 55 2534 4538                                     &  VA                                                   \\\\\n",
       "\\end{tabular}\n"
      ],
      "text/markdown": [
       "\n",
       "| fecha | texto | persona | mensaje |\n",
       "|---|---|---|---|\n",
       "| 8/27/18, 12:23 PM                                      |  SYLVAIN: ROL DOMINGO CASA                             |  SYLVAIN                                               |  ROL DOMINGO CASA                                      |\n",
       "| 8/27/18, 12:24 PM                                      |  52 1 55 2683 4746: COOL                               |  52 1 55 2683 4746                                     |  COOL                                                  |\n",
       "| 8/27/18, 12:24 PM                                      |  52 1 55 2683 4746: ENTRO                              |  52 1 55 2683 4746                                     |  ENTRO                                                 |\n",
       "| 8/27/18, 12:24 PM                                      |  52 1 477 471 6688: MIENTRAS AGARRE DORMIDO TIEMPO IRE |  52 1 477 471 6688                                     |  MIENTRAS AGARRE DORMIDO TIEMPO IRE                    |\n",
       "| 8/27/18, 12:25 PM                                      |  52 1 55 2683 4746:                                    |  52 1 55 2683 4746                                     |                                                        |\n",
       "| 8/27/18, 12:28 PM                                      |  52 1 55 2534 4538: VA                                 |  52 1 55 2534 4538                                     |  VA                                                    |\n",
       "\n"
      ],
      "text/plain": [
       "  fecha             texto                                                 \n",
       "1 8/27/18, 12:23 PM  SYLVAIN: ROL DOMINGO CASA                            \n",
       "2 8/27/18, 12:24 PM  52 1 55 2683 4746: COOL                              \n",
       "3 8/27/18, 12:24 PM  52 1 55 2683 4746: ENTRO                             \n",
       "4 8/27/18, 12:24 PM  52 1 477 471 6688: MIENTRAS AGARRE DORMIDO TIEMPO IRE\n",
       "5 8/27/18, 12:25 PM  52 1 55 2683 4746:                                   \n",
       "6 8/27/18, 12:28 PM  52 1 55 2534 4538: VA                                \n",
       "  persona            mensaje                            \n",
       "1  SYLVAIN            ROL DOMINGO CASA                  \n",
       "2  52 1 55 2683 4746  COOL                              \n",
       "3  52 1 55 2683 4746  ENTRO                             \n",
       "4  52 1 477 471 6688  MIENTRAS AGARRE DORMIDO TIEMPO IRE\n",
       "5  52 1 55 2683 4746                                    \n",
       "6  52 1 55 2534 4538  VA                                "
      ]
     },
     "metadata": {},
     "output_type": "display_data"
    }
   ],
   "source": [
    "base <- base %>% filter(!is.na(mensaje)|mensaje!=\"\")\n",
    "head(base)"
   ]
  },
  {
   "cell_type": "markdown",
   "metadata": {},
   "source": [
    "Creación de columna con formato date"
   ]
  },
  {
   "cell_type": "code",
   "execution_count": 15,
   "metadata": {},
   "outputs": [
    {
     "data": {
      "text/html": [
       "'Date'"
      ],
      "text/latex": [
       "'Date'"
      ],
      "text/markdown": [
       "'Date'"
      ],
      "text/plain": [
       "[1] \"Date\""
      ]
     },
     "metadata": {},
     "output_type": "display_data"
    }
   ],
   "source": [
    "base$fecha <- gsub(\"[^0-9A-Za-z///_áéíóúñ']\",\"\", base$fecha)\n",
    "base$date <- as.Date(base$fecha, format = \"%d/%m/%y\")\n",
    "class(base$date)"
   ]
  },
  {
   "cell_type": "markdown",
   "metadata": {},
   "source": [
    "¿Quiénes son los participantes de este grupo de chat?"
   ]
  },
  {
   "cell_type": "code",
   "execution_count": 16,
   "metadata": {},
   "outputs": [
    {
     "data": {
      "text/html": [
       "<ol class=list-inline>\n",
       "\t<li> SYLVAIN</li>\n",
       "\t<li> 52 1 55 2683 4746</li>\n",
       "\t<li> 52 1 477 471 6688</li>\n",
       "\t<li> 52 1 55 2534 4538</li>\n",
       "\t<li> 52 1 55 7665 2023</li>\n",
       "\t<li>52 1 55 7665 2023</li>\n",
       "\t<li>ANDRES</li>\n",
       "\t<li>SYLVAIN</li>\n",
       "\t<li>2 1 55 1680 2055</li>\n",
       "\t<li>2 1 55 2683 4746</li>\n",
       "\t<li>52 1 55 2683 4746</li>\n",
       "\t<li>52 1 477 471 6688</li>\n",
       "\t<li>52 1 55 2534 4538</li>\n",
       "\t<li>52 1 55 1680 2055</li>\n",
       "\t<li>2 1 477 471 6688</li>\n",
       "\t<li>2 1 55 7665 2023</li>\n",
       "\t<li> 52 1 55 1680 2055</li>\n",
       "\t<li>NDRES</li>\n",
       "\t<li> ANDRES</li>\n",
       "\t<li>UELO JUGAR PLUMAS</li>\n",
       "\t<li>2 1 55 2534 4538</li>\n",
       "\t<li>DRES</li>\n",
       "\t<li>WIKI/ARSEPLOMANCER</li>\n",
       "</ol>\n",
       "\n",
       "<details>\n",
       "\t<summary style=display:list-item;cursor:pointer>\n",
       "\t\t<strong>Levels</strong>:\n",
       "\t</summary>\n",
       "\t<ol class=list-inline>\n",
       "\t\t<li>' 52 1 477 471 6688'</li>\n",
       "\t\t<li>' 52 1 55 1680 2055'</li>\n",
       "\t\t<li>' 52 1 55 2534 4538'</li>\n",
       "\t\t<li>' 52 1 55 2683 4746'</li>\n",
       "\t\t<li>' 52 1 55 7665 2023'</li>\n",
       "\t\t<li>' ANDRES'</li>\n",
       "\t\t<li>' SYLVAIN'</li>\n",
       "\t\t<li>'2 1 477 471 6688'</li>\n",
       "\t\t<li>'2 1 55 1680 2055'</li>\n",
       "\t\t<li>'2 1 55 2534 4538'</li>\n",
       "\t\t<li>'2 1 55 2683 4746'</li>\n",
       "\t\t<li>'2 1 55 7665 2023'</li>\n",
       "\t\t<li>'52 1 477 471 6688'</li>\n",
       "\t\t<li>'52 1 55 1680 2055'</li>\n",
       "\t\t<li>'52 1 55 2534 4538'</li>\n",
       "\t\t<li>'52 1 55 2683 4746'</li>\n",
       "\t\t<li>'52 1 55 7665 2023'</li>\n",
       "\t\t<li>'ANDRES'</li>\n",
       "\t\t<li>'DRES'</li>\n",
       "\t\t<li>'NDRES'</li>\n",
       "\t\t<li>'SYLVAIN'</li>\n",
       "\t\t<li>'UELO JUGAR PLUMAS'</li>\n",
       "\t\t<li>'WIKI/ARSEPLOMANCER'</li>\n",
       "\t</ol>\n",
       "</details>"
      ],
      "text/latex": [
       "\\begin{enumerate*}\n",
       "\\item  SYLVAIN\n",
       "\\item  52 1 55 2683 4746\n",
       "\\item  52 1 477 471 6688\n",
       "\\item  52 1 55 2534 4538\n",
       "\\item  52 1 55 7665 2023\n",
       "\\item 52 1 55 7665 2023\n",
       "\\item ANDRES\n",
       "\\item SYLVAIN\n",
       "\\item 2 1 55 1680 2055\n",
       "\\item 2 1 55 2683 4746\n",
       "\\item 52 1 55 2683 4746\n",
       "\\item 52 1 477 471 6688\n",
       "\\item 52 1 55 2534 4538\n",
       "\\item 52 1 55 1680 2055\n",
       "\\item 2 1 477 471 6688\n",
       "\\item 2 1 55 7665 2023\n",
       "\\item  52 1 55 1680 2055\n",
       "\\item NDRES\n",
       "\\item  ANDRES\n",
       "\\item UELO JUGAR PLUMAS\n",
       "\\item 2 1 55 2534 4538\n",
       "\\item DRES\n",
       "\\item WIKI/ARSEPLOMANCER\n",
       "\\end{enumerate*}\n",
       "\n",
       "\\emph{Levels}: \\begin{enumerate*}\n",
       "\\item ' 52 1 477 471 6688'\n",
       "\\item ' 52 1 55 1680 2055'\n",
       "\\item ' 52 1 55 2534 4538'\n",
       "\\item ' 52 1 55 2683 4746'\n",
       "\\item ' 52 1 55 7665 2023'\n",
       "\\item ' ANDRES'\n",
       "\\item ' SYLVAIN'\n",
       "\\item '2 1 477 471 6688'\n",
       "\\item '2 1 55 1680 2055'\n",
       "\\item '2 1 55 2534 4538'\n",
       "\\item '2 1 55 2683 4746'\n",
       "\\item '2 1 55 7665 2023'\n",
       "\\item '52 1 477 471 6688'\n",
       "\\item '52 1 55 1680 2055'\n",
       "\\item '52 1 55 2534 4538'\n",
       "\\item '52 1 55 2683 4746'\n",
       "\\item '52 1 55 7665 2023'\n",
       "\\item 'ANDRES'\n",
       "\\item 'DRES'\n",
       "\\item 'NDRES'\n",
       "\\item 'SYLVAIN'\n",
       "\\item 'UELO JUGAR PLUMAS'\n",
       "\\item 'WIKI/ARSEPLOMANCER'\n",
       "\\end{enumerate*}\n"
      ],
      "text/markdown": [
       "1.  SYLVAIN\n",
       "2.  52 1 55 2683 4746\n",
       "3.  52 1 477 471 6688\n",
       "4.  52 1 55 2534 4538\n",
       "5.  52 1 55 7665 2023\n",
       "6. 52 1 55 7665 2023\n",
       "7. ANDRES\n",
       "8. SYLVAIN\n",
       "9. 2 1 55 1680 2055\n",
       "10. 2 1 55 2683 4746\n",
       "11. 52 1 55 2683 4746\n",
       "12. 52 1 477 471 6688\n",
       "13. 52 1 55 2534 4538\n",
       "14. 52 1 55 1680 2055\n",
       "15. 2 1 477 471 6688\n",
       "16. 2 1 55 7665 2023\n",
       "17.  52 1 55 1680 2055\n",
       "18. NDRES\n",
       "19.  ANDRES\n",
       "20. UELO JUGAR PLUMAS\n",
       "21. 2 1 55 2534 4538\n",
       "22. DRES\n",
       "23. WIKI/ARSEPLOMANCER\n",
       "\n",
       "\n",
       "\n",
       "**Levels**: 1. ' 52 1 477 471 6688'\n",
       "2. ' 52 1 55 1680 2055'\n",
       "3. ' 52 1 55 2534 4538'\n",
       "4. ' 52 1 55 2683 4746'\n",
       "5. ' 52 1 55 7665 2023'\n",
       "6. ' ANDRES'\n",
       "7. ' SYLVAIN'\n",
       "8. '2 1 477 471 6688'\n",
       "9. '2 1 55 1680 2055'\n",
       "10. '2 1 55 2534 4538'\n",
       "11. '2 1 55 2683 4746'\n",
       "12. '2 1 55 7665 2023'\n",
       "13. '52 1 477 471 6688'\n",
       "14. '52 1 55 1680 2055'\n",
       "15. '52 1 55 2534 4538'\n",
       "16. '52 1 55 2683 4746'\n",
       "17. '52 1 55 7665 2023'\n",
       "18. 'ANDRES'\n",
       "19. 'DRES'\n",
       "20. 'NDRES'\n",
       "21. 'SYLVAIN'\n",
       "22. 'UELO JUGAR PLUMAS'\n",
       "23. 'WIKI/ARSEPLOMANCER'\n",
       "\n",
       "\n"
      ],
      "text/plain": [
       " [1]  SYLVAIN            52 1 55 2683 4746  52 1 477 471 6688  52 1 55 2534 4538\n",
       " [5]  52 1 55 7665 2023 52 1 55 7665 2023  ANDRES             SYLVAIN           \n",
       " [9] 2 1 55 1680 2055   2 1 55 2683 4746   52 1 55 2683 4746  52 1 477 471 6688 \n",
       "[13] 52 1 55 2534 4538  52 1 55 1680 2055  2 1 477 471 6688   2 1 55 7665 2023  \n",
       "[17]  52 1 55 1680 2055 NDRES               ANDRES            UELO JUGAR PLUMAS \n",
       "[21] 2 1 55 2534 4538   DRES               WIKI/ARSEPLOMANCER\n",
       "23 Levels:  52 1 477 471 6688  52 1 55 1680 2055 ... WIKI/ARSEPLOMANCER"
      ]
     },
     "metadata": {},
     "output_type": "display_data"
    },
    {
     "data": {
      "text/html": [
       "23"
      ],
      "text/latex": [
       "23"
      ],
      "text/markdown": [
       "23"
      ],
      "text/plain": [
       "[1] 23"
      ]
     },
     "metadata": {},
     "output_type": "display_data"
    }
   ],
   "source": [
    "unique(factor(base$persona))\n",
    "length(unique(base$persona))"
   ]
  },
  {
   "cell_type": "markdown",
   "metadata": {},
   "source": [
    "En este punto podemos determinar si el código ha funcionado con el dataset. ¿Cómo se determina esto? <br>\n",
    "* Los datos que aparecen con el código \"unique(factor(base$persona))\" son solamente los números de teléfono o los nombres con los que se tienen registrados a los participantes de la conversación.\n",
    "* No hay texto además de los nombres o números.\n",
    "\n",
    "De ser así se puede continuar, sino, hay que observar si el corte fue el adecuado al momento de separar las columas \"persona\" y \"mensaje\""
   ]
  },
  {
   "cell_type": "markdown",
   "metadata": {},
   "source": [
    "## Análisis de los datos\n",
    "Se toman a las personas que se quieran analizar:"
   ]
  },
  {
   "cell_type": "code",
   "execution_count": 17,
   "metadata": {},
   "outputs": [],
   "source": [
    "levels(base$persona) <- c(\"SYLVAIN\", \"ANDRES\", \"NDRES\", \" SYLVAIN\")"
   ]
  },
  {
   "cell_type": "markdown",
   "metadata": {},
   "source": [
    "Se grafica la frecuencia de chateo de los participantes obtenidos en el paso anterior."
   ]
  },
  {
   "cell_type": "code",
   "execution_count": 18,
   "metadata": {},
   "outputs": [
    {
     "name": "stderr",
     "output_type": "stream",
     "text": [
      "Warning message:\n",
      "\"Removed 114 rows containing non-finite values (stat_bin).\""
     ]
    },
    {
     "data": {
      "image/png": "[encoded data removed]",
      "text/plain": [
       "plot without title"
      ]
     },
     "metadata": {},
     "output_type": "display_data"
    }
   ],
   "source": [
    "base <- base %>% filter(persona %in% c(\"SYLVAIN\", \"ANDRES\", \"NDRES\", \" SYLVAIN\"))\n",
    "ggplot(base, aes(x=date,fill=persona))+\n",
    "  geom_histogram(binwidth = 7, position = 'dodge')+\n",
    "  xlab(\"Fecha\")+ylab(\"#Mensajesdías\")+\n",
    "  labs(fill=\"\")"
   ]
  },
  {
   "cell_type": "markdown",
   "metadata": {},
   "source": [
    "¿Cómo saber qué es lo que más comunmente ha dicho una persona?<br>\n",
    "Para conseguir esto se generará una nube de palabras (wordcloud), a mayor tamaño de una palabra, más veces ha sido dicha por la persona que se está analizando. <br>Si hay muchas palabras como \"jajajaja\" se pueden remover en el paso 10 donde se agregaron manualmente las stopwords, para que no influyan en el resultado de la nube de palabras. <br>Si se quiere cambiar el color de las palabras en la nube se modifica la última sección del código, específicamente la palabra \"Dark2\". Para ver las paletas de colores disponibles entra aquí: https://www.nceas.ucsb.edu/~frazier/RSpatialGuides/colorPaletteCheatsheet.pdf "
   ]
  },
  {
   "cell_type": "code",
   "execution_count": 19,
   "metadata": {},
   "outputs": [
    {
     "data": {
      "image/png": "[encoded data removed]",
      "text/plain": [
       "plot without title"
      ]
     },
     "metadata": {},
     "output_type": "display_data"
    }
   ],
   "source": [
    "base_f <- base %>%\n",
    "  filter(persona==\"SYLVAIN\")\n",
    "dd <- data.frame(\n",
    "  doc_id=base_f$persona,\n",
    "  text=base_f$mensaje,\n",
    "  stringsAsFactors = F\n",
    ")\n",
    "\n",
    "base1 <- VCorpus(DataframeSource(dd),\n",
    "                 readerControl = list(language = \"es\"))\n",
    "dtm <- DocumentTermMatrix(base1)\n",
    "\n",
    "\n",
    "freq = data.frame(sort(colSums(as.matrix(dtm)), decreasing=TRUE))\n",
    "\n",
    "wordcloud(rownames(freq), freq[,1], max.words=50, colors=brewer.pal(3, \"Dark2\"))"
   ]
  },
  {
   "cell_type": "code",
   "execution_count": 20,
   "metadata": {},
   "outputs": [
    {
     "data": {
      "image/png": "[encoded data removed]",
      "text/plain": [
       "plot without title"
      ]
     },
     "metadata": {},
     "output_type": "display_data"
    }
   ],
   "source": [
    "base_f <- base %>%\n",
    "  filter(persona==\" SYLVAIN\")\n",
    "dd <- data.frame(\n",
    "  doc_id=base_f$persona,\n",
    "  text=base_f$mensaje,\n",
    "  stringsAsFactors = F\n",
    ")\n",
    "\n",
    "base1 <- VCorpus(DataframeSource(dd),\n",
    "                 readerControl = list(language = \"es\"))\n",
    "dtm <- DocumentTermMatrix(base1)\n",
    "\n",
    "\n",
    "freq = data.frame(sort(colSums(as.matrix(dtm)), decreasing=TRUE))\n",
    "\n",
    "wordcloud(rownames(freq), freq[,1], max.words=50, colors=brewer.pal(3, \"Dark2\"))"
   ]
  },
  {
   "cell_type": "markdown",
   "metadata": {},
   "source": [
    "Llegando a este punto, donde se conocen a los participantes y las fechas en las cuales interactuaron, se pueden presentar las siguientes líneas de investigación:\n",
    "* ¿Entre cuáles participantes hubo mayor comunicación mutua?\n",
    "* ¿Cuáles fueron los horarios más comunes para el inicio de comunicaciones?\n",
    "* ¿Cuáles fueron las palabras que concluyeron conversaciones? (Aquellas que no consiguieron una respuesta de sus pares pasado un cierto tiempo)\n",
    "* ¿Cuál es la variedad del léxico de los participantes y la densidad de sus mensajes (cuántas palabras por mensaje ocupa)?\n",
    "* ¿Cuáles son los horarios en los que se determina que hay más mensajes positivos y negativos?\n",
    "* ¿Se puede predecir cuándo se hará otra invitación a una reunión y la fecha de dicha reunión?"
   ]
  }
 ],
 "metadata": {
  "kernelspec": {
   "display_name": "R",
   "language": "R",
   "name": "ir"
  },
  "language_info": {
   "codemirror_mode": "r",
   "file_extension": ".r",
   "mimetype": "text/x-r-source",
   "name": "R",
   "pygments_lexer": "r",
   "version": "3.5.2"
  }
 },
 "nbformat": 4,
 "nbformat_minor": 2
}
